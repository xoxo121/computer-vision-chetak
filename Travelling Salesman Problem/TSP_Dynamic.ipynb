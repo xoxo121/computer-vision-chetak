{
  "cells": [
    {
      "cell_type": "markdown",
      "metadata": {
        "id": "vr-W0xZ3LlXe"
      },
      "source": [
        "## **TRAVELLING SALESMAN PROBLEM USING DYNAMIC PROGRAMMING**\n",
        "*Rahul Vimalkanth*"
      ]
    },
    {
      "cell_type": "markdown",
      "metadata": {
        "id": "KPQvTA3i-MFY"
      },
      "source": [
        " **DYNAMIC PROGRAMMING**\n",
        "\n",
        "- We use a bottom-up approach to solve TSP.\n",
        "- Start by solving subproblems for small sets of cities and build up to larger sets.\n",
        "- The principle of optimality guides our approach: For any intermediate path (Vi, Vj), the total distance must be minimized.\n",
        "\n",
        "**Implementing Dynamic Programming:**\n",
        "\n",
        "1. Break down the problem into smaller subproblems.\n",
        "2. Formulate a recurrence relation that expresses the optimal solution for a given problem instance in terms of solutions to smaller instances of the same problem.\n",
        "3. Memoization:Cache the results of subproblems in a data structure to avoid redundant computations\n",
        "4. Iterate over the subproblems ensuring that each subproblem is solved exactly once.\n",
        "5.  Once all subproblems are solved, use the stored solutions to compute the optimal solution for the main problem.\n",
        "6. Return the optimal solution\n"
      ]
    },
    {
      "cell_type": "markdown",
      "metadata": {
        "id": "ptpaYDWys5cM"
      },
      "source": [
        "# ***Pseudocode***"
      ]
    },
    {
      "cell_type": "markdown",
      "metadata": {
        "id": "gLG31DSaymvr"
      },
      "source": [
        "1. Define a function tsp_dynamic_programming:\n",
        "    - Takes a symmetric matrix 'distances' representing distances between cities as input.\n",
        "    - Returns a tuple containing the optimal permutation of cities and the total distance traveled.\n",
        "\n",
        "2. Initialize variables:\n",
        "    - num_cities = length of the distance matrix (number of cities).\n",
        "    - all_cities = set of all city indices (0 to num_cities - 1).\n",
        "    - memo = a dictionary to store computed results for memoization.\n",
        "\n",
        "3. Define a recursive function find_optimal_path:\n",
        "    - Parameters: 'visited_cities' (set of visited city indices) and 'current_city' (index of the current city).\n",
        "    - Base case: If all cities have been visited, return to the starting city with zero distance.\n",
        "    - Check if the current state is memoized; if so, return the memoized result.\n",
        "    - Initialize variables for minimum distance and best path.\n",
        "    - Iterate through unvisited cities:\n",
        "        - Recursively calculate distance and path for visiting the next city.\n",
        "        - Calculate total distance from the current city to the next city.\n",
        "        - Update minimum distance and best path if a shorter path is found.\n",
        "    - Memoize the computed result for the current state.\n",
        "    - Return the minimum distance and the optimal path.\n",
        "\n",
        "4. Start the dynamic programming process from city 0:\n",
        "    - Call find_optimal_path with the starting city and an empty set of visited cities.\n",
        "    - This initiates the recursive process to find the optimal path.\n",
        "\n",
        "5. Compute the total distance traveled along the optimal path:\n",
        "    - Sum the distances between consecutive cities in the optimal path.\n",
        "    - Add the distance from the last city back to the starting city.\n",
        "    - This gives the total distance traveled along the entire path.\n",
        "\n",
        "6. Return the optimal path and total distance.\n",
        "\n",
        "7. Example usage:\n",
        "    - Create a symmetric distance matrix representing distances between cities.\n",
        "    - Call tsp_dynamic_programming with the distance matrix.\n",
        "    - Print the optimal path and total distance traveled.\n",
        "    - This demonstrates how to use the tsp_dynamic_programming function to solve the TSP for a given distance matrix.\n",
        "\n"
      ]
    },
    {
      "cell_type": "markdown",
      "metadata": {
        "id": "w6r6JMRJASgR"
      },
      "source": [
        "# ***Code Implementation***"
      ]
    },
    {
      "cell_type": "code",
      "execution_count": 50,
      "metadata": {
        "id": "KK3PZkG7zJUv"
      },
      "outputs": [],
      "source": [
        "import numpy as np\n",
        "import math\n",
        "from collections import defaultdict"
      ]
    },
    {
      "cell_type": "markdown",
      "metadata": {
        "id": "P2IAgbYa2QH9"
      },
      "source": [
        "- Initialize a memoization table to store computed results\n",
        "\n",
        "- each key in the memo table represents a unique state of the problem, characterized by the set of visited cities (visited_cities) and the current city (current_city). The corresponding value stores the minimum distance (min_distance) and the optimal path (best_path) associated with that state.\n",
        "\n",
        "- By memoizing these results, the algorithm can avoid recalculating the optimal path and distance for the same combination of visited cities and current city, thereby improving efficiency by eliminating redundant computations.\n",
        "\n",
        "- defaultdict(lambda: (math.inf, [ ])) initializes the default value for new keys to (math.inf, [ ])\n",
        "\n",
        "- defaultdict allows you to specify a default value factory for the dictionary. When the dictionary is accessed it creates the key and assigns it the default value returned by the factory function when a key is absent.\n",
        "\n",
        "- where math.inf represents positive infinity and [ ] represents an empty list.This ensures that initially, all distances are considered infinite until they are computed and updated during the algorithm's execution."
      ]
    },
    {
      "cell_type": "code",
      "execution_count": 51,
      "metadata": {
        "id": "6ZwMVvp9vpSi"
      },
      "outputs": [],
      "source": [
        "def tsp_dynamic(distances):\n",
        "    num_cities = len(distances)\n",
        "    all_cities = set(range(num_cities))\n",
        "    # Memoization table\n",
        "    memo = defaultdict(lambda: (math.inf, []))\n",
        "\n",
        "    # Define recursive function to find optimal path\n",
        "    def find_optimal_path(visited_cities, current_city):\n",
        "        if len(visited_cities) == num_cities:\n",
        "            # Return to the starting city with zero distance and path containing only the starting city\n",
        "            return distances[current_city][0], [0]\n",
        "\n",
        "        if memo[(frozenset(visited_cities), current_city)][0] != math.inf:\n",
        "            return memo[(frozenset(visited_cities), current_city)]\n",
        "\n",
        "        min_distance = math.inf\n",
        "        best_path = []\n",
        "\n",
        "        # Iterate through unvisited cities\n",
        "        for next_city in (all_cities - visited_cities):\n",
        "            new_visited_cities = visited_cities | {next_city}\n",
        "\n",
        "            # Recursively find the optimal path with the updated set of visited cities and next city index\n",
        "            distance, path = find_optimal_path(new_visited_cities, next_city)\n",
        "            total_distance = distance + distances[current_city][next_city]\n",
        "\n",
        "            if total_distance < min_distance:\n",
        "                min_distance = total_distance\n",
        "                best_path = [next_city] + path\n",
        "\n",
        "        memo[(frozenset(visited_cities), current_city)] = (min_distance, best_path)\n",
        "        return min_distance, best_path\n",
        "\n",
        "    # Discard the minimum distance returned by find_optimal_path, as it's not needed here\n",
        "    _, optimal_path = find_optimal_path({0}, 0)\n",
        "\n",
        "    total_distance = 0\n",
        "    for i in range(num_cities - 1):\n",
        "        total_distance += distances[optimal_path[i]][optimal_path[i + 1]]\n",
        "\n",
        "    # Add the distance from the last city back to the starting city\n",
        "    total_distance += distances[optimal_path[-1]][optimal_path[0]]\n",
        "\n",
        "    return optimal_path, total_distance\n"
      ]
    },
    {
      "cell_type": "markdown",
      "metadata": {
        "id": "z-TcOsIb4IKo"
      },
      "source": [
        "- The condition memo[(visited_cities, current_city)][0] != math.inf checks whether the minimum distance for the current state has been computed before.\n",
        "\n",
        "- If it is not equal to positive infinity, it means that the result has already been memoized.\n",
        "\n",
        "- If the condition is true, the function returns the memoized result directly, avoiding redundant computation."
      ]
    },
    {
      "cell_type": "markdown",
      "source": [
        "A frozenset in Python is an immutable version of a set. Unlike sets, which can be modified after creation, frozensets cannot be changed once they are created. This immutability makes frozensets suitable for situations where you need a fixed set of elements that should not be altered. Frozensets are commonly used as keys in dictionaries or as elements in other sets due to their hashable nature."
      ],
      "metadata": {
        "id": "Wa8OxxCSETgN"
      }
    },
    {
      "cell_type": "markdown",
      "source": [
        "Checking with the example given in this [video](https://www.youtube.com/watch?v=XaXsJJh-Q5Y&t=5s)"
      ],
      "metadata": {
        "id": "v9lW2oeTA_a_"
      }
    },
    {
      "cell_type": "code",
      "execution_count": 52,
      "metadata": {
        "colab": {
          "base_uri": "https://localhost:8080/"
        },
        "id": "SsSc40DR4l1W",
        "outputId": "dd73a515-2a12-4e49-dc85-8b8084468d95"
      },
      "outputs": [
        {
          "output_type": "stream",
          "name": "stdout",
          "text": [
            "The optimal path to visit all cities is: [1, 3, 2, 0]\n",
            "The total distance traveled is: 35\n"
          ]
        }
      ],
      "source": [
        "distances = [\n",
        "    [0, 10, 15, 20],\n",
        "    [5, 0, 9, 10],\n",
        "    [6, 13, 0, 12],\n",
        "    [8, 8, 9, 0]\n",
        "]\n",
        "\n",
        "optimal_path, total_distance = tsp_dynamic(distances)\n",
        "print(f\"The optimal path to visit all cities is: {optimal_path}\")\n",
        "print(f\"The total distance traveled is: {total_distance}\")"
      ]
    }
  ],
  "metadata": {
    "colab": {
      "provenance": []
    },
    "kernelspec": {
      "display_name": "Python 3",
      "name": "python3"
    },
    "language_info": {
      "name": "python"
    }
  },
  "nbformat": 4,
  "nbformat_minor": 0
}