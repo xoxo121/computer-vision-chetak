{
 "cells": [
  {
   "cell_type": "markdown",
   "id": "3ddbc896-7446-4e9c-97c3-0fb76d042bcf",
   "metadata": {},
   "source": [
    "MASKING SPECIFIED COLOR IN LIVE FEED\n",
    "- Rahul Vimalkanth"
   ]
  },
  {
   "cell_type": "code",
   "execution_count": 1,
   "id": "e3faa3e1-b6a6-4f4f-b1ca-a0e897e2c5b8",
   "metadata": {},
   "outputs": [],
   "source": [
    "# importing libraries\n",
    "import cv2 as cv\n",
    "import numpy as np"
   ]
  },
  {
   "cell_type": "markdown",
   "id": "ceecab1e-06fb-4549-99e7-146ab8c414fd",
   "metadata": {},
   "source": [
    "The mask_object() function generates a binary mask where pixels within the specified color range are set to 255 (white) and pixels outside the range are set to 0 (black)."
   ]
  },
  {
   "cell_type": "code",
   "execution_count": 2,
   "id": "10fec32a-78d3-4baf-886a-0d3283a51299",
   "metadata": {},
   "outputs": [],
   "source": [
    "# Creating a mask for a specific color range\n",
    "def mask_object(frame,low_hsv,up_hsv):\n",
    "  hsv_frame = cv.cvtColor(frame, cv.COLOR_BGR2HSV)\n",
    "  mask = cv.inRange(hsv_frame,low_color,up_color)\n",
    "  return mask"
   ]
  },
  {
   "cell_type": "markdown",
   "id": "30f9b1a0-e666-4954-97aa-038920e01c27",
   "metadata": {},
   "source": [
    "The cv.boundingRect(contour) function computes the bounding rectangle for a given contour.A bounding rectangle is the smallest rectangle that completely encloses a contour. (x,y) are the top left corner's coordinates.(w,h) are the width and height of the bounding rectangle."
   ]
  },
  {
   "cell_type": "code",
   "execution_count": 3,
   "id": "a6310f69-db9a-471e-bf8c-61ea48f55fba",
   "metadata": {},
   "outputs": [],
   "source": [
    "#  To draw bounding boxes around the object\n",
    "def bound_boxes(frame, contours):\n",
    "    for contour in contours:\n",
    "        x, y, w, h = cv.boundingRect(contour)\n",
    "        cv.rectangle(frame, (x, y), (x + w, y + h), (0, 0, 255), 2)"
   ]
  },
  {
   "cell_type": "markdown",
   "id": "5c414071-bb98-4b71-985c-03377271f79a",
   "metadata": {},
   "source": [
    "- By passing 0 as the argument to cv.VideoCapture(0), I am telling OpenCV to use the default webcam (usually the built-in one      on laptop).\n",
    "\n",
    "- The cap.read() function returns two values\r",
    "  \n",
    "ret: A boolean value indicating whether the frame was successfully read (True if successful, False otherwise).  \r\n",
    "frame: The actual frame captured from the webca\n",
    "\n",
    "About cv.findContours()\n",
    "\n",
    "- It returns a list of contours, where each contour is a sequence of points (usually pixels) that form the boundary of an object.\r",
    "  \n",
    "The cv2.RETR_EXTERNAL flag ensures that only the outer contours are considere).  \r\n",
    "The cv2.CHAIN_APPROX_SIMPLE flag simplifies the contours by removing unnecessary points, making them more memory-efficie\n",
    "- It returns the contours and the hierarchy, which is ignored.\n",
    "  (hierarchy refers to the parent-child relationship between contours)(OpenCV represents the hierarchy as an array of four          values for each contour: \n",
    "[Next, Previous, First_Child, Paren])\n",
    "- CHAIN_APPROX_SIMPLE: Compresses horizontal, vertical, and diagonal segments of contours by storing only their endpoints.\r",
    "  \n",
    "For example, if a straight line is part of the contour, only its endpoints are stored.  \r\n",
    "This simplification reduces memory usage and speeds up processing.]ntm."
   ]
  },
  {
   "cell_type": "code",
   "execution_count": 4,
   "id": "568f52f7-9ed2-4ad0-b669-01bd0593505d",
   "metadata": {},
   "outputs": [],
   "source": [
    "# Capturing video from webcam\n",
    "cap = cv.VideoCapture(0)\n",
    "\n",
    "# Reading the video\n",
    "while True:\n",
    "    ret, frame = cap.read()\n",
    "    if not ret:\n",
    "        break\n",
    "    \n",
    "    # The range for the Yellow color \n",
    "    low_color = np.array([20, 100, 100])  \n",
    "    up_color = np.array([40, 255, 255])\n",
    "    \n",
    "    yellow_mask = mask_object(frame, low_color, up_color)\n",
    "    \n",
    "    # Finding contours of the object\n",
    "    contours,_ = cv.findContours(yellow_mask, cv.RETR_EXTERNAL, cv.CHAIN_APPROX_SIMPLE)\n",
    "    bound_boxes(frame, contours)\n",
    "    \n",
    "    cv.imshow(\"Yellow object detected\" ,frame)\n",
    "    cv.imshow(\"Masked video\", yellow_mask)\n",
    "    \n",
    "    # Wait for 1 ms and check if escape key is pressed\n",
    "    if cv.waitKey(1) == 27:\n",
    "        break\n",
    "\n",
    "# Release the webcam and close the window\n",
    "cap.release()\n",
    "cv.destroyAllWindows()"
   ]
  },
  {
   "cell_type": "code",
   "execution_count": null,
   "id": "c6603ece-038d-4850-abe6-eca91e01847c",
   "metadata": {},
   "outputs": [],
   "source": []
  }
 ],
 "metadata": {
  "kernelspec": {
   "display_name": "Python 3 (ipykernel)",
   "language": "python",
   "name": "python3"
  },
  "language_info": {
   "codemirror_mode": {
    "name": "ipython",
    "version": 3
   },
   "file_extension": ".py",
   "mimetype": "text/x-python",
   "name": "python",
   "nbconvert_exporter": "python",
   "pygments_lexer": "ipython3",
   "version": "3.12.1"
  }
 },
 "nbformat": 4,
 "nbformat_minor": 5
}
